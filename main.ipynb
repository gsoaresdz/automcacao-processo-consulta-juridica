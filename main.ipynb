{
 "cells": [
  {
   "cell_type": "markdown",
   "id": "0e16544e",
   "metadata": {},
   "source": [
    "## Projeto de Consulta Juridica"
   ]
  },
  {
   "cell_type": "code",
   "execution_count": null,
   "id": "a5bbebcb",
   "metadata": {},
   "outputs": [],
   "source": [
    "# criar o navegador\n",
    "from selenium import webdriver\n",
    "from selenium.webdriver.chrome.service import Service\n",
    "#from webdriver_manager.chrome import ChromeDriverManager\n",
    "from selenium.webdriver.common.by import By\n",
    "\n",
    "#servico = Service(ChromeDriverManager().install())\n",
    "navegador = webdriver.Chrome()"
   ]
  },
  {
   "cell_type": "code",
   "execution_count": null,
   "id": "b1863ba7",
   "metadata": {},
   "outputs": [],
   "source": [
    "# abrir a página index (entrar no site da busca jurídica)\n",
    "import os\n",
    "caminho = os.getcwd()\n",
    "arquivo = caminho + r\"\\index.html\""
   ]
  },
  {
   "cell_type": "markdown",
   "id": "fbc27df0",
   "metadata": {},
   "source": [
    "###### Importar a base de dados"
   ]
  },
  {
   "cell_type": "code",
   "execution_count": null,
   "id": "31b3024a",
   "metadata": {},
   "outputs": [],
   "source": [
    "import pandas as pd\n",
    "\n",
    "tabela = pd.read_excel('Processos.xlsx')\n",
    "display(tabela)"
   ]
  },
  {
   "cell_type": "code",
   "execution_count": null,
   "id": "f6d4299a",
   "metadata": {},
   "outputs": [],
   "source": [
    "from operator import index\n",
    "from selenium.webdriver import ActionChains\n",
    "import time \n",
    "from cgitb import text\n",
    "\n",
    "for linha in tabela.index:\n",
    "  # para cada processo (linha da tabela)\n",
    "  navegador.get(arquivo)\n",
    "\n",
    "  #abrir lista de cidades\n",
    "  botao = navegador.find_element(By.CLASS_NAME, 'dropdown-menu')\n",
    "  ActionChains(navegador).move_to_element(botao).perform()\n",
    "\n",
    "  cidade = tabela.loc[linha, 'Cidade']\n",
    "  print(cidade)\n",
    "\n",
    "  # Selecionando o Rio de Janeiro\n",
    "  navegador.find_element(By.PARTIAL_LINK_TEXT, cidade).click()\n",
    "\n",
    "  # mudar para a nova aba\n",
    "  aba_original = navegador.window_handles[0]\n",
    "  indice = 1 + linha\n",
    "  nova_aba = navegador.window_handles[indice]\n",
    "\n",
    "  navegador.switch_to.window(nova_aba)\n",
    "  # preencher o formulário com os dados de busca\n",
    "  navegador.find_element(By.ID, 'nome').send_keys(tabela.loc[linha, \"Nome\"])\n",
    "  navegador.find_element(By.ID, 'advogado').send_keys(tabela.loc[linha, \"Advogado\"])\n",
    "  navegador.find_element(By.ID, 'numero').send_keys(tabela.loc[linha, \"Processo\"])\n",
    "\n",
    "  # clicar em pesquisar\n",
    "  navegador.find_element(By.CLASS_NAME, 'registerbtn').click()\n",
    "  \n",
    "  # confirmar a pesquisa\n",
    "  alerta = navegador.switch_to.alert\n",
    "  alerta.accept()\n",
    "\n",
    "  # esperar o resultado da pesquisa e agir de acordo com o resultado\n",
    "  \n",
    "  while True:\n",
    "    try:\n",
    "      alerta = navegador.switch_to.alert\n",
    "      break\n",
    "    except:\n",
    "      time.sleep(1) \n",
    "  texto_alerta = alerta.text\n",
    "\n",
    "  if 'Processo encontrado com sucesso' in texto_alerta:\n",
    "    alerta.accept()\n",
    "    tabela.loc[linha, \"Status\"] = \"Encontrado\"\n",
    "  else:\n",
    "    tabela.loc[linha, \"Status\"] = \"Não encontrado\"\n",
    "    alerta.accept()"
   ]
  },
  {
   "cell_type": "code",
   "execution_count": null,
   "id": "0800af24",
   "metadata": {},
   "outputs": [],
   "source": [
    "navegador.quit()\n",
    "display(tabela)\n",
    "\n",
    "tabela.to_excel(\"Processo Atualizado.xlsx\")"
   ]
  }
 ],
 "metadata": {
  "kernelspec": {
   "display_name": "Python 3 (ipykernel)",
   "language": "python",
   "name": "python3"
  },
  "language_info": {
   "codemirror_mode": {
    "name": "ipython",
    "version": 3
   },
   "file_extension": ".py",
   "mimetype": "text/x-python",
   "name": "python",
   "nbconvert_exporter": "python",
   "pygments_lexer": "ipython3",
   "version": "3.9.7"
  },
  "vscode": {
   "interpreter": {
    "hash": "e5882f1a9d2529a8f07f4964a9aa2777d1ad98b2c770a4f48c3438835058b188"
   }
  }
 },
 "nbformat": 4,
 "nbformat_minor": 5
}
