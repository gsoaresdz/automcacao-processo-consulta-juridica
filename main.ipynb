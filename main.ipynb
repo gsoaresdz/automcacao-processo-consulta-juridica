{
 "cells": [
  {
   "cell_type": "markdown",
   "id": "0e16544e",
   "metadata": {},
   "source": [
    "## Projeto de Consulta Juridica"
   ]
  },
  {
   "cell_type": "markdown",
   "metadata": {},
   "source": [
    "Configuração de navegador"
   ]
  },
  {
   "cell_type": "code",
   "execution_count": 11,
   "id": "a5bbebcb",
   "metadata": {},
   "outputs": [],
   "source": [
    "from selenium import webdriver\n",
    "from selenium.webdriver.chrome.service import Service\n",
    "#from webdriver_manager.chrome import ChromeDriverManager\n",
    "from selenium.webdriver.common.by import By\n",
    "\n",
    "#servico = Service(ChromeDriverManager().install())\n",
    "navegador = webdriver.Chrome()"
   ]
  },
  {
   "cell_type": "markdown",
   "metadata": {},
   "source": [
    "Abrir a página index (entrar no site da busca jurídica)"
   ]
  },
  {
   "cell_type": "code",
   "execution_count": 15,
   "id": "b1863ba7",
   "metadata": {},
   "outputs": [],
   "source": [
    "import os\n",
    "caminho = os.getcwd()\n",
    "arquivo = caminho + r\"\\templates\\index.html\""
   ]
  },
  {
   "cell_type": "markdown",
   "id": "fbc27df0",
   "metadata": {},
   "source": [
    "Base de dados"
   ]
  },
  {
   "cell_type": "code",
   "execution_count": 16,
   "id": "31b3024a",
   "metadata": {},
   "outputs": [
    {
     "data": {
      "text/html": [
       "<div>\n",
       "<style scoped>\n",
       "    .dataframe tbody tr th:only-of-type {\n",
       "        vertical-align: middle;\n",
       "    }\n",
       "\n",
       "    .dataframe tbody tr th {\n",
       "        vertical-align: top;\n",
       "    }\n",
       "\n",
       "    .dataframe thead th {\n",
       "        text-align: right;\n",
       "    }\n",
       "</style>\n",
       "<table border=\"1\" class=\"dataframe\">\n",
       "  <thead>\n",
       "    <tr style=\"text-align: right;\">\n",
       "      <th></th>\n",
       "      <th>Nome</th>\n",
       "      <th>Advogado</th>\n",
       "      <th>Processo</th>\n",
       "      <th>Cidade</th>\n",
       "      <th>Status</th>\n",
       "    </tr>\n",
       "  </thead>\n",
       "  <tbody>\n",
       "    <tr>\n",
       "      <th>0</th>\n",
       "      <td>Lira</td>\n",
       "      <td>Alon Lawyer</td>\n",
       "      <td>PC6592</td>\n",
       "      <td>Distrito Federal</td>\n",
       "      <td>NaN</td>\n",
       "    </tr>\n",
       "    <tr>\n",
       "      <th>1</th>\n",
       "      <td>João</td>\n",
       "      <td>Lawyer Alon</td>\n",
       "      <td>EB3792</td>\n",
       "      <td>Rio de Janeiro</td>\n",
       "      <td>NaN</td>\n",
       "    </tr>\n",
       "    <tr>\n",
       "      <th>2</th>\n",
       "      <td>Amanda</td>\n",
       "      <td>Amanda mesmo</td>\n",
       "      <td>MM1043</td>\n",
       "      <td>Rio de Janeiro</td>\n",
       "      <td>NaN</td>\n",
       "    </tr>\n",
       "    <tr>\n",
       "      <th>3</th>\n",
       "      <td>Carol</td>\n",
       "      <td>Amanda</td>\n",
       "      <td>PC5197</td>\n",
       "      <td>São Paulo</td>\n",
       "      <td>NaN</td>\n",
       "    </tr>\n",
       "  </tbody>\n",
       "</table>\n",
       "</div>"
      ],
      "text/plain": [
       "     Nome      Advogado Processo            Cidade  Status\n",
       "0    Lira   Alon Lawyer   PC6592  Distrito Federal     NaN\n",
       "1    João   Lawyer Alon   EB3792    Rio de Janeiro     NaN\n",
       "2  Amanda  Amanda mesmo   MM1043    Rio de Janeiro     NaN\n",
       "3   Carol        Amanda   PC5197         São Paulo     NaN"
      ]
     },
     "metadata": {},
     "output_type": "display_data"
    }
   ],
   "source": [
    "import pandas as pd\n",
    "\n",
    "tabela = pd.read_excel(r'Base de Dados\\Processos.xlsx')\n",
    "display(tabela)"
   ]
  },
  {
   "cell_type": "markdown",
   "metadata": {},
   "source": [
    "Estrutura de Consulta Jurídica"
   ]
  },
  {
   "cell_type": "code",
   "execution_count": 17,
   "id": "f6d4299a",
   "metadata": {},
   "outputs": [
    {
     "name": "stdout",
     "output_type": "stream",
     "text": [
      "Distrito Federal\n",
      "Rio de Janeiro\n",
      "Rio de Janeiro\n",
      "São Paulo\n"
     ]
    }
   ],
   "source": [
    "from operator import index\n",
    "from selenium.webdriver import ActionChains\n",
    "import time \n",
    "from cgitb import text\n",
    "\n",
    "for linha in tabela.index:\n",
    "  # para cada processo (linha da tabela)\n",
    "  navegador.get(arquivo)\n",
    "\n",
    "  #abrir lista de cidades\n",
    "  botao = navegador.find_element(By.CLASS_NAME, 'dropdown-menu')\n",
    "  ActionChains(navegador).move_to_element(botao).perform()\n",
    "\n",
    "  cidade = tabela.loc[linha, 'Cidade']\n",
    "  print(cidade)\n",
    "\n",
    "  # Selecionando o Rio de Janeiro\n",
    "  navegador.find_element(By.PARTIAL_LINK_TEXT, cidade).click()\n",
    "\n",
    "  # mudar para a nova aba\n",
    "  aba_original = navegador.window_handles[0]\n",
    "  indice = 1 + linha\n",
    "  nova_aba = navegador.window_handles[indice]\n",
    "\n",
    "  navegador.switch_to.window(nova_aba)\n",
    "  # preencher o formulário com os dados de busca\n",
    "  navegador.find_element(By.ID, 'nome').send_keys(tabela.loc[linha, \"Nome\"])\n",
    "  navegador.find_element(By.ID, 'advogado').send_keys(tabela.loc[linha, \"Advogado\"])\n",
    "  navegador.find_element(By.ID, 'numero').send_keys(tabela.loc[linha, \"Processo\"])\n",
    "\n",
    "  # clicar em pesquisar\n",
    "  navegador.find_element(By.CLASS_NAME, 'registerbtn').click()\n",
    "  \n",
    "  # confirmar a pesquisa\n",
    "  alerta = navegador.switch_to.alert\n",
    "  alerta.accept()\n",
    "\n",
    "  # esperar o resultado da pesquisa e agir de acordo com o resultado\n",
    "  \n",
    "  while True:\n",
    "    try:\n",
    "      alerta = navegador.switch_to.alert\n",
    "      break\n",
    "    except:\n",
    "      time.sleep(1)\n",
    "  texto_alerta = alerta.text\n",
    "\n",
    "  if 'Processo encontrado com sucesso' in texto_alerta:\n",
    "    alerta.accept()\n",
    "    tabela.loc[linha, \"Status\"] = \"Encontrado\"\n",
    "  else:\n",
    "    tabela.loc[linha, \"Status\"] = \"Não encontrado\"\n",
    "    alerta.accept()"
   ]
  },
  {
   "cell_type": "markdown",
   "metadata": {},
   "source": [
    "Encerramento de navegador e atualização do Arquivo Processado "
   ]
  },
  {
   "cell_type": "code",
   "execution_count": 18,
   "id": "0800af24",
   "metadata": {},
   "outputs": [
    {
     "data": {
      "text/html": [
       "<div>\n",
       "<style scoped>\n",
       "    .dataframe tbody tr th:only-of-type {\n",
       "        vertical-align: middle;\n",
       "    }\n",
       "\n",
       "    .dataframe tbody tr th {\n",
       "        vertical-align: top;\n",
       "    }\n",
       "\n",
       "    .dataframe thead th {\n",
       "        text-align: right;\n",
       "    }\n",
       "</style>\n",
       "<table border=\"1\" class=\"dataframe\">\n",
       "  <thead>\n",
       "    <tr style=\"text-align: right;\">\n",
       "      <th></th>\n",
       "      <th>Nome</th>\n",
       "      <th>Advogado</th>\n",
       "      <th>Processo</th>\n",
       "      <th>Cidade</th>\n",
       "      <th>Status</th>\n",
       "    </tr>\n",
       "  </thead>\n",
       "  <tbody>\n",
       "    <tr>\n",
       "      <th>0</th>\n",
       "      <td>Lira</td>\n",
       "      <td>Alon Lawyer</td>\n",
       "      <td>PC6592</td>\n",
       "      <td>Distrito Federal</td>\n",
       "      <td>Não encontrado</td>\n",
       "    </tr>\n",
       "    <tr>\n",
       "      <th>1</th>\n",
       "      <td>João</td>\n",
       "      <td>Lawyer Alon</td>\n",
       "      <td>EB3792</td>\n",
       "      <td>Rio de Janeiro</td>\n",
       "      <td>Não encontrado</td>\n",
       "    </tr>\n",
       "    <tr>\n",
       "      <th>2</th>\n",
       "      <td>Amanda</td>\n",
       "      <td>Amanda mesmo</td>\n",
       "      <td>MM1043</td>\n",
       "      <td>Rio de Janeiro</td>\n",
       "      <td>Não encontrado</td>\n",
       "    </tr>\n",
       "    <tr>\n",
       "      <th>3</th>\n",
       "      <td>Carol</td>\n",
       "      <td>Amanda</td>\n",
       "      <td>PC5197</td>\n",
       "      <td>São Paulo</td>\n",
       "      <td>Encontrado</td>\n",
       "    </tr>\n",
       "  </tbody>\n",
       "</table>\n",
       "</div>"
      ],
      "text/plain": [
       "     Nome      Advogado Processo            Cidade          Status\n",
       "0    Lira   Alon Lawyer   PC6592  Distrito Federal  Não encontrado\n",
       "1    João   Lawyer Alon   EB3792    Rio de Janeiro  Não encontrado\n",
       "2  Amanda  Amanda mesmo   MM1043    Rio de Janeiro  Não encontrado\n",
       "3   Carol        Amanda   PC5197         São Paulo      Encontrado"
      ]
     },
     "metadata": {},
     "output_type": "display_data"
    }
   ],
   "source": [
    "navegador.quit()\n",
    "display(tabela)\n",
    "\n",
    "tabela.to_excel(r\"Base de dados\\Processo Atualizado.xlsx\")"
   ]
  }
 ],
 "metadata": {
  "kernelspec": {
   "display_name": "Python 3 (ipykernel)",
   "language": "python",
   "name": "python3"
  },
  "language_info": {
   "codemirror_mode": {
    "name": "ipython",
    "version": 3
   },
   "file_extension": ".py",
   "mimetype": "text/x-python",
   "name": "python",
   "nbconvert_exporter": "python",
   "pygments_lexer": "ipython3",
   "version": "3.9.7"
  },
  "vscode": {
   "interpreter": {
    "hash": "e5882f1a9d2529a8f07f4964a9aa2777d1ad98b2c770a4f48c3438835058b188"
   }
  }
 },
 "nbformat": 4,
 "nbformat_minor": 5
}
